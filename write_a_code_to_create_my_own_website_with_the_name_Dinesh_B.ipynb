{
  "cells": [
    {
      "cell_type": "markdown",
      "metadata": {
        "id": "view-in-github",
        "colab_type": "text"
      },
      "source": [
        "<a href=\"https://colab.research.google.com/github/Dinesh-119/Python-Projects-/blob/main/write_a_code_to_create_my_own_website_with_the_name_Dinesh_B.ipynb\" target=\"_parent\"><img src=\"https://colab.research.google.com/assets/colab-badge.svg\" alt=\"Open In Colab\"/></a>"
      ]
    },
    {
      "cell_type": "markdown",
      "source": [
        "Sure, here is a code to create your own website with the name Dinesh B:"
      ],
      "metadata": {
        "id": "YqO74rrPimFv"
      }
    },
    {
      "cell_type": "code",
      "source": [
        "import os\n",
        "\n",
        "def create_website(name):\n",
        "  \"\"\"Creates a website with the given name.\"\"\"\n",
        "  website_dir = os.path.join(os.getcwd(), name)\n",
        "  if not os.path.exists(website_dir):\n",
        "    os.mkdir(website_dir)\n",
        "  index_file = os.path.join(website_dir, \"index.html\")\n",
        "  with open(index_file, \"w\") as f:\n",
        "    f.write(\"\"\"\n",
        "<!DOCTYPE html>\n",
        "<html lang=\"en\">\n",
        "<head>\n",
        "<title>Dinesh B's Website</title>\n",
        "</head>\n",
        "<body>\n",
        "<h1>Welcome to Dinesh B's Website</h1>\n",
        "</body>\n",
        "</html>\n",
        "\"\"\")\n",
        "\n",
        "if __name__ == \"__main__\":\n",
        "  create_website(\"Dinesh B\")"
      ],
      "outputs": [],
      "execution_count": 2,
      "metadata": {
        "id": "n_iLK5JFimF4"
      }
    },
    {
      "cell_type": "markdown",
      "source": [
        "This code will create a new directory called \"Dinesh B\" in your current working directory. Inside the directory, it will create a file called \"index.html\". The file will contain the code for a simple HTML page with a heading that says \"Welcome to Dinesh B's Website\".\n",
        "\n",
        "To run the code, save it as a Python file and then run it from the command line. For example, if you saved the code as `create_website.py`, you would run it by typing the following command into the command line:\n",
        "\n",
        "```\n",
        "python create_website.py\n",
        "```\n",
        "\n",
        "Once you have run the code, you can open the website in a web browser by opening the file `index.html` in the \"Dinesh B\" directory.\n",
        "\n",
        "I hope this helps! Let me know if you have any other questions."
      ],
      "metadata": {
        "id": "-KKgq1AtimF8"
      }
    }
  ],
  "metadata": {
    "colab": {
      "provenance": [],
      "include_colab_link": true
    },
    "kernelspec": {
      "display_name": "Python 3",
      "name": "python3"
    }
  },
  "nbformat": 4,
  "nbformat_minor": 0
}